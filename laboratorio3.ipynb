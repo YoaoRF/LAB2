{
  "nbformat": 4,
  "nbformat_minor": 0,
  "metadata": {
    "colab": {
      "provenance": [],
      "authorship_tag": "ABX9TyNadJ82e4cb/C0nceu+JyRr",
      "include_colab_link": true
    },
    "kernelspec": {
      "name": "python3",
      "display_name": "Python 3"
    },
    "language_info": {
      "name": "python"
    }
  },
  "cells": [
    {
      "cell_type": "markdown",
      "metadata": {
        "id": "view-in-github",
        "colab_type": "text"
      },
      "source": [
        "<a href=\"https://colab.research.google.com/github/YoaoRF/LAB2/blob/master/laboratorio3.ipynb\" target=\"_parent\"><img src=\"https://colab.research.google.com/assets/colab-badge.svg\" alt=\"Open In Colab\"/></a>"
      ]
    },
    {
      "cell_type": "code",
      "execution_count": null,
      "metadata": {
        "colab": {
          "base_uri": "https://localhost:8080/"
        },
        "id": "fG8EW26iaZnD",
        "outputId": "7d3230ff-752a-4d00-bb92-6750ec4692ff"
      },
      "outputs": [
        {
          "output_type": "stream",
          "name": "stdout",
          "text": [
            "---- Imputación por MEDIA ----\n",
            "   x1  x2     x3     x4\n",
            "0   1   1  32.00  102.0\n",
            "1   2   2  30.00  121.0\n",
            "2   3   3  33.25  343.0\n",
            "3   4   1  33.25  162.4\n",
            "4   5   2  27.00  121.0\n",
            "5   6   7  44.00  125.0\n"
          ]
        }
      ],
      "source": [
        "import pandas as pd\n",
        "import numpy as np\n",
        "\n",
        "data = pd.DataFrame({\n",
        "    'x1': [1, 2, 3, 4, 5, 6],\n",
        "    'x2': [1, 2, 3, 1, 2, 7],\n",
        "    'x3': [32, 30, np.nan, np.nan, 27, 44],\n",
        "    'x4': [102, 121, 343, np.nan, 121, 125]\n",
        "})\n",
        "\n",
        "data_mean = data.copy()\n",
        "for c in data_mean.columns:\n",
        "    if pd.api.types.is_numeric_dtype(data_mean[c]):\n",
        "        data_mean[c] = data_mean[c].fillna(data_mean[c].mean())\n",
        "\n",
        "print(\"---- Imputación por MEDIA ----\")\n",
        "print(data_mean)\n"
      ]
    },
    {
      "cell_type": "code",
      "source": [
        "import pandas as pd\n",
        "import numpy as np\n",
        "\n",
        "data = pd.DataFrame({\n",
        "    'x1': [1, 2, 3, 4, 5, 6],\n",
        "    'x2': [1, 2, 3, 1, 2, 7],\n",
        "    'x3': [32, 30, np.nan, np.nan, 27, 44],\n",
        "    'x4': [102, 121, 343, np.nan, 121, 125]\n",
        "})\n",
        "\n",
        "data_mode = data.copy()\n",
        "for c in data_mode.columns:\n",
        "    moda = data_mode[c].mode(dropna=True)\n",
        "    if not moda.empty:\n",
        "        data_mode[c] = data_mode[c].fillna(moda.iloc[0])\n",
        "\n",
        "print(\"---- Imputación por MODA ----\")\n",
        "print(data_mode)\n"
      ],
      "metadata": {
        "colab": {
          "base_uri": "https://localhost:8080/"
        },
        "id": "VC97J7nreEml",
        "outputId": "77a3b0cb-0b05-47d6-ec64-3394d4439619"
      },
      "execution_count": null,
      "outputs": [
        {
          "output_type": "stream",
          "name": "stdout",
          "text": [
            "---- Imputación por MODA ----\n",
            "   x1  x2    x3     x4\n",
            "0   1   1  32.0  102.0\n",
            "1   2   2  30.0  121.0\n",
            "2   3   3  27.0  343.0\n",
            "3   4   1  27.0  121.0\n",
            "4   5   2  27.0  121.0\n",
            "5   6   7  44.0  125.0\n"
          ]
        }
      ]
    }
  ]
}